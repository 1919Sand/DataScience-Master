{
 "cells": [
  {
   "cell_type": "code",
   "execution_count": null,
   "id": "473e95a3-2277-4eb3-b119-b67f380ee7ba",
   "metadata": {},
   "outputs": [],
   "source": [
    "\n",
    "    \n"
   ]
  },
  {
   "cell_type": "code",
   "execution_count": 26,
   "id": "dc0d0e6a-12d4-4c6f-a197-6d41e61e90a5",
   "metadata": {},
   "outputs": [
    {
     "name": "stdout",
     "output_type": "stream",
     "text": [
      "[1, 2, 3, 5, 8, 15]\n"
     ]
    }
   ],
   "source": [
    "print(l)"
   ]
  },
  {
   "cell_type": "code",
   "execution_count": 31,
   "id": "4808da27-ecc1-4b11-97f4-7b467c2bf054",
   "metadata": {},
   "outputs": [],
   "source": [
    "def square(l):\n",
    "    l1=[]\n",
    "    \n",
    "    for i in l:\n",
    "        l1.append(i**2)\n",
    "    return l1"
   ]
  },
  {
   "cell_type": "code",
   "execution_count": 32,
   "id": "8fde23d0-c165-47d9-8061-c0484bc44dbb",
   "metadata": {},
   "outputs": [
    {
     "data": {
      "text/plain": [
       "[1, 4, 9, 25, 64, 225]"
      ]
     },
     "execution_count": 32,
     "metadata": {},
     "output_type": "execute_result"
    }
   ],
   "source": [
    "square(l)"
   ]
  },
  {
   "cell_type": "markdown",
   "id": "b7137e6d-daee-4bc3-a7e0-610ad9ec78b0",
   "metadata": {},
   "source": [
    "## Map Function:"
   ]
  },
  {
   "cell_type": "code",
   "execution_count": 37,
   "id": "d15605f8-93d4-4859-ab4b-53d7dff7e8cd",
   "metadata": {},
   "outputs": [
    {
     "name": "stdout",
     "output_type": "stream",
     "text": [
      "[1, 2, 3, 5, 8, 15]\n"
     ]
    }
   ],
   "source": [
    "print(l)"
   ]
  },
  {
   "cell_type": "code",
   "execution_count": 61,
   "id": "d7a0596c-a5bf-4bd6-8739-771e2521fdef",
   "metadata": {},
   "outputs": [],
   "source": [
    "l= [2,4,5,7,9,10]"
   ]
  },
  {
   "cell_type": "code",
   "execution_count": 62,
   "id": "915af809-41bc-4997-bbf2-9bdc13f521b4",
   "metadata": {},
   "outputs": [],
   "source": [
    "def sq(l):\n",
    "    return l**2"
   ]
  },
  {
   "cell_type": "code",
   "execution_count": 75,
   "id": "c9511802-89dd-4c25-9584-2db26cbcd17f",
   "metadata": {},
   "outputs": [
    {
     "data": {
      "text/plain": [
       "[4, 16, 25, 49, 81, 100]"
      ]
     },
     "execution_count": 75,
     "metadata": {},
     "output_type": "execute_result"
    }
   ],
   "source": [
    "list(map(sq, l))\n",
    "    "
   ]
  },
  {
   "cell_type": "code",
   "execution_count": 92,
   "id": "a032f8bf-e1a2-48fe-a63d-0565aad1ce1f",
   "metadata": {},
   "outputs": [
    {
     "data": {
      "text/plain": [
       "[4, 16, 25, 49, 81, 100]"
      ]
     },
     "execution_count": 92,
     "metadata": {},
     "output_type": "execute_result"
    }
   ],
   "source": [
    "list(map(lambda l: l**2 , l ))"
   ]
  },
  {
   "cell_type": "markdown",
   "id": "ed9a100d-428a-427f-a311-66f0df3f732b",
   "metadata": {},
   "source": [
    "# add to list using map function"
   ]
  },
  {
   "cell_type": "code",
   "execution_count": 93,
   "id": "5ee6b304-ee2c-4dd5-9378-bb8c04ce30c4",
   "metadata": {},
   "outputs": [
    {
     "data": {
      "text/plain": [
       "[5, 7, 9, 11]"
      ]
     },
     "execution_count": 93,
     "metadata": {},
     "output_type": "execute_result"
    }
   ],
   "source": [
    "l1=[2,3,4,5]\n",
    "l2=[3,4,5,6]\n",
    "list(map(lambda x,y: x+y,l1,l2))"
   ]
  },
  {
   "cell_type": "code",
   "execution_count": 108,
   "id": "6d1bb1f4-fd90-408a-be59-128ad121b372",
   "metadata": {},
   "outputs": [
    {
     "data": {
      "text/plain": [
       "[5, 7, 9, 11]"
      ]
     },
     "execution_count": 108,
     "metadata": {},
     "output_type": "execute_result"
    }
   ],
   "source": [
    "# using lambda function  with outside and using lambda function store in other varaible in f:\n",
    "l1=[2,3,4,5]\n",
    "l2=[3,4,5,6]\n",
    "f=lambda x,y:x+y\n",
    "list(map(f , l1,l2))"
   ]
  },
  {
   "cell_type": "code",
   "execution_count": 109,
   "id": "311ac1f1-bcdf-4dd4-8766-a9104c3c0997",
   "metadata": {},
   "outputs": [],
   "source": [
    "l1=[2,3,4,5]\n",
    "l2=[3,4,5,6]\n",
    "\n",
    "def add_list(*args):\n",
    "    return l1+l2"
   ]
  },
  {
   "cell_type": "code",
   "execution_count": 102,
   "id": "1527757a-f2ba-4324-b05a-e1fa118eede4",
   "metadata": {},
   "outputs": [
    {
     "data": {
      "text/plain": [
       "[2, 3, 4, 5, 3, 4, 5, 6]"
      ]
     },
     "execution_count": 102,
     "metadata": {},
     "output_type": "execute_result"
    }
   ],
   "source": [
    "add_list()"
   ]
  },
  {
   "cell_type": "code",
   "execution_count": 119,
   "id": "25feaa99-1611-4034-bf67-51860557e37e",
   "metadata": {},
   "outputs": [
    {
     "data": {
      "text/plain": [
       "['S', 'A', 'N', 'D', 'E', 'E', 'P']"
      ]
     },
     "execution_count": 119,
     "metadata": {},
     "output_type": "execute_result"
    }
   ],
   "source": [
    "a=\"Sandeep\"\n",
    "\n",
    "list(map(lambda x: x.upper(), a))\n",
    "\n",
    "    "
   ]
  },
  {
   "cell_type": "code",
   "execution_count": 122,
   "id": "cf621a75-8549-4b75-bd30-5e1cf4935fbe",
   "metadata": {},
   "outputs": [
    {
     "data": {
      "text/plain": [
       "['s', 'a', 'n', 'd', 'e', 'e', 'p']"
      ]
     },
     "execution_count": 122,
     "metadata": {},
     "output_type": "execute_result"
    }
   ],
   "source": [
    "a=\"SANDEEP\"\n",
    "\n",
    "list(map(lambda x: x.lower(), a))"
   ]
  },
  {
   "cell_type": "code",
   "execution_count": 37,
   "id": "0951c2ac-0e09-44e3-bbfe-b9738c9811dd",
   "metadata": {},
   "outputs": [
    {
     "name": "stdout",
     "output_type": "stream",
     "text": [
      "[1, 4, 9, 16, 25]\n"
     ]
    }
   ],
   "source": [
    "numbers = [1, 2, 3, 4, 5]\n",
    "\n",
    "squared_numbers = map(lambda x: x**2, numbers)\n",
    "\n",
    "print(list(squared_numbers))"
   ]
  },
  {
   "cell_type": "markdown",
   "id": "9cf2c736-0f13-4e33-a091-397970b53509",
   "metadata": {},
   "source": [
    "## REDUCE FUNCTION\n",
    " we are not use directly this function, we need to import \n",
    " "
   ]
  },
  {
   "cell_type": "code",
   "execution_count": 7,
   "id": "32b4d76d-d7a0-4400-a21f-aedf503cefce",
   "metadata": {},
   "outputs": [],
   "source": [
    "from functools import reduce"
   ]
  },
  {
   "cell_type": "code",
   "execution_count": 8,
   "id": "e541e31b-3469-490e-96b8-a80637acbec0",
   "metadata": {},
   "outputs": [
    {
     "data": {
      "text/plain": [
       "20"
      ]
     },
     "execution_count": 8,
     "metadata": {},
     "output_type": "execute_result"
    }
   ],
   "source": [
    "l=[2,3,4,5,6]\n",
    "reduce(lambda x,y: x+y, l) # we are add all the value each other using reduce function:"
   ]
  },
  {
   "cell_type": "code",
   "execution_count": 9,
   "id": "975cc3dd-7f60-4142-9fdc-9a7b246884de",
   "metadata": {},
   "outputs": [
    {
     "data": {
      "text/plain": [
       "20"
      ]
     },
     "execution_count": 9,
     "metadata": {},
     "output_type": "execute_result"
    }
   ],
   "source": [
    "l=[2,3,4,5,6]\n",
    "\n",
    "def add(x,y):\n",
    "    return x+y        # by using function and reduce function to execture this programe\n",
    "\n",
    "reduce(add, l)"
   ]
  },
  {
   "cell_type": "code",
   "execution_count": 11,
   "id": "ba443718-c589-494c-bab7-900502763165",
   "metadata": {},
   "outputs": [
    {
     "data": {
      "text/plain": [
       "8"
      ]
     },
     "execution_count": 11,
     "metadata": {},
     "output_type": "execute_result"
    }
   ],
   "source": [
    "l=[2,3,4,8,6]\n",
    "\n",
    "reduce(lambda x,y: x if x>y else y, l) # first x= 2 and y= 3 and compare that and so on>>"
   ]
  },
  {
   "cell_type": "code",
   "execution_count": 36,
   "id": "16fda5bc-7841-4a3a-9b90-1b2a86b54d67",
   "metadata": {},
   "outputs": [
    {
     "name": "stdout",
     "output_type": "stream",
     "text": [
      "120\n"
     ]
    }
   ],
   "source": [
    "from functools import reduce\n",
    "# multiply each number using reduce function:\n",
    "\n",
    "numbers = [1, 2, 3, 4, 5]\n",
    "\n",
    "product = reduce(lambda x, y: x*y, numbers)\n",
    "\n",
    "print(product)"
   ]
  },
  {
   "cell_type": "markdown",
   "id": "3244d2ed-556a-4340-8fd0-870756e30316",
   "metadata": {},
   "source": [
    "## Filter function:"
   ]
  },
  {
   "cell_type": "code",
   "execution_count": 19,
   "id": "9c2cc848-d675-4c15-9073-f3ab582cd86a",
   "metadata": {},
   "outputs": [
    {
     "data": {
      "text/plain": [
       "[2, 8, 16]"
      ]
     },
     "execution_count": 19,
     "metadata": {},
     "output_type": "execute_result"
    }
   ],
   "source": [
    "# find even number using filter function:\n",
    "l=[2,3,5,7,8,9,16]\n",
    "\n",
    "list(filter(lambda x:  x%2==0, l)) "
   ]
  },
  {
   "cell_type": "code",
   "execution_count": 20,
   "id": "a20b220c-93ba-4807-9e01-a0192e190c34",
   "metadata": {},
   "outputs": [
    {
     "data": {
      "text/plain": [
       "[3, 5, 7, 9]"
      ]
     },
     "execution_count": 20,
     "metadata": {},
     "output_type": "execute_result"
    }
   ],
   "source": [
    "# find Odd number using filter function:\n",
    "l=[2,3,5,7,8,9,16]\n",
    "list(filter(lambda x: x%2!=0,l))"
   ]
  },
  {
   "cell_type": "code",
   "execution_count": 22,
   "id": "2aaa5ef7-a0c2-460f-8a96-a8ea165a48f0",
   "metadata": {},
   "outputs": [
    {
     "data": {
      "text/plain": [
       "[-1, -2, -3, -4]"
      ]
     },
     "execution_count": 22,
     "metadata": {},
     "output_type": "execute_result"
    }
   ],
   "source": [
    "# find the negative number in list using filter function:\n",
    "l= [-1,-2,-3,-4,7,6,8,9]\n",
    "\n",
    "list(filter(lambda x: x<0,l))"
   ]
  },
  {
   "cell_type": "code",
   "execution_count": 23,
   "id": "65b46d9b-6f46-4be9-a064-38cd8bc36ace",
   "metadata": {},
   "outputs": [
    {
     "data": {
      "text/plain": [
       "[7, 6, 8, 9]"
      ]
     },
     "execution_count": 23,
     "metadata": {},
     "output_type": "execute_result"
    }
   ],
   "source": [
    "# find the positive number in list using filter function:\n",
    "l= [-1,-2,-3,-4,7,6,8,9]\n",
    "\n",
    "list(filter(lambda x: x>0,l))"
   ]
  },
  {
   "cell_type": "code",
   "execution_count": 24,
   "id": "dfe40f82-d4a1-4da0-8a97-fc7e542e3826",
   "metadata": {},
   "outputs": [],
   "source": [
    "l2=[\"sandeep\", \"Rima\", \"Soni\", \"Keshav\", \"Vineet\" , \"Mumbai\", \"Kolkata\"]"
   ]
  },
  {
   "cell_type": "code",
   "execution_count": 34,
   "id": "d625bd1e-adb8-4236-a969-03f7c333242b",
   "metadata": {},
   "outputs": [
    {
     "data": {
      "text/plain": [
       "['sandeep', 'Kolkata']"
      ]
     },
     "execution_count": 34,
     "metadata": {},
     "output_type": "execute_result"
    }
   ],
   "source": [
    "list(filter(lambda x: len(x)>6, l2))"
   ]
  },
  {
   "cell_type": "code",
   "execution_count": 35,
   "id": "6612e8b4-2ce6-4e2f-9ff6-e3c9a7ddd393",
   "metadata": {},
   "outputs": [
    {
     "name": "stdout",
     "output_type": "stream",
     "text": [
      "[2, 4]\n"
     ]
    }
   ],
   "source": [
    "# print EVEn number:\n",
    "numbers = [1, 2, 3, 4, 5]\n",
    "\n",
    "even_numbers = filter(lambda x: x%2 == 0, numbers)\n",
    "\n",
    "print(list(even_numbers))"
   ]
  },
  {
   "cell_type": "code",
   "execution_count": null,
   "id": "e9e80922-49e4-4611-83fd-cde5e92169d2",
   "metadata": {},
   "outputs": [],
   "source": []
  }
 ],
 "metadata": {
  "kernelspec": {
   "display_name": "Python 3 (ipykernel)",
   "language": "python",
   "name": "python3"
  },
  "language_info": {
   "codemirror_mode": {
    "name": "ipython",
    "version": 3
   },
   "file_extension": ".py",
   "mimetype": "text/x-python",
   "name": "python",
   "nbconvert_exporter": "python",
   "pygments_lexer": "ipython3",
   "version": "3.10.8"
  }
 },
 "nbformat": 4,
 "nbformat_minor": 5
}
