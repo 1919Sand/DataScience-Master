{
 "cells": [
  {
   "cell_type": "markdown",
   "id": "46524a9e-c1a0-42be-b002-c12aa5f803de",
   "metadata": {},
   "source": [
    "Function of Python \n",
    "\n"
   ]
  },
  {
   "cell_type": "markdown",
   "id": "8e278e04-8312-4f3c-9797-d1dbbbfe18cd",
   "metadata": {},
   "source": [
    "def test():"
   ]
  },
  {
   "cell_type": "code",
   "execution_count": 3,
   "id": "567a247e-e660-4129-b011-f4715edd71f6",
   "metadata": {},
   "outputs": [],
   "source": [
    "def test():\n",
    "    pass"
   ]
  },
  {
   "cell_type": "code",
   "execution_count": 6,
   "id": "015bc73f-994b-47f7-a721-a558a39bcdac",
   "metadata": {},
   "outputs": [],
   "source": [
    "def test():\n",
    "    a=3*4*5\n",
    "    return a\n",
    "\n"
   ]
  },
  {
   "cell_type": "code",
   "execution_count": 11,
   "id": "23e3276a-4e2c-404e-b0e3-76893e772a64",
   "metadata": {},
   "outputs": [
    {
     "data": {
      "text/plain": [
       "int"
      ]
     },
     "execution_count": 11,
     "metadata": {},
     "output_type": "execute_result"
    }
   ],
   "source": [
    "type(test())"
   ]
  },
  {
   "cell_type": "code",
   "execution_count": 12,
   "id": "3ba97550-be46-4705-920c-9aca35f78a8a",
   "metadata": {},
   "outputs": [
    {
     "data": {
      "text/plain": [
       "60"
      ]
     },
     "execution_count": 12,
     "metadata": {},
     "output_type": "execute_result"
    }
   ],
   "source": [
    "test()"
   ]
  },
  {
   "cell_type": "code",
   "execution_count": 15,
   "id": "2471f2fe-7c2a-4e5a-b992-07b5bebd50eb",
   "metadata": {},
   "outputs": [],
   "source": [
    "def test5(a,b):\n",
    "    c= a+b\n",
    "    return c\n"
   ]
  },
  {
   "cell_type": "code",
   "execution_count": 18,
   "id": "25c5e3ae-ce57-4e12-98f6-45ad37251ce6",
   "metadata": {},
   "outputs": [
    {
     "ename": "TypeError",
     "evalue": "test5() missing 2 required positional arguments: 'a' and 'b'",
     "output_type": "error",
     "traceback": [
      "\u001b[0;31m---------------------------------------------------------------------------\u001b[0m",
      "\u001b[0;31mTypeError\u001b[0m                                 Traceback (most recent call last)",
      "Cell \u001b[0;32mIn[18], line 1\u001b[0m\n\u001b[0;32m----> 1\u001b[0m \u001b[43mtest5\u001b[49m\u001b[43m(\u001b[49m\u001b[43m)\u001b[49m\n",
      "\u001b[0;31mTypeError\u001b[0m: test5() missing 2 required positional arguments: 'a' and 'b'"
     ]
    }
   ],
   "source": [
    "test5()"
   ]
  },
  {
   "cell_type": "code",
   "execution_count": null,
   "id": "28d956e0-72fe-4013-8b61-a5ab1c173b3e",
   "metadata": {},
   "outputs": [],
   "source": [
    "def test5(a,b):\n",
    "    c= a+b\n",
    "    return c"
   ]
  },
  {
   "cell_type": "code",
   "execution_count": 20,
   "id": "85d6f507-1119-4f73-9590-39a9fe841845",
   "metadata": {},
   "outputs": [
    {
     "data": {
      "text/plain": [
       "7"
      ]
     },
     "execution_count": 20,
     "metadata": {},
     "output_type": "execute_result"
    }
   ],
   "source": [
    "test5(3,4)"
   ]
  },
  {
   "cell_type": "code",
   "execution_count": 22,
   "id": "7c855114-36f3-4b1d-9fbc-bb4c99979bb8",
   "metadata": {},
   "outputs": [
    {
     "data": {
      "text/plain": [
       "'sandeepgiri'"
      ]
     },
     "execution_count": 22,
     "metadata": {},
     "output_type": "execute_result"
    }
   ],
   "source": [
    "test5(\"sandeep\",\"giri\")"
   ]
  },
  {
   "cell_type": "code",
   "execution_count": 23,
   "id": "8d120670-5e49-486c-a1ca-a5392cd160f2",
   "metadata": {},
   "outputs": [
    {
     "data": {
      "text/plain": [
       "'sandeep giri'"
      ]
     },
     "execution_count": 23,
     "metadata": {},
     "output_type": "execute_result"
    }
   ],
   "source": [
    "test5(\"sandeep\",\" giri\")"
   ]
  },
  {
   "cell_type": "markdown",
   "id": "1dfb253c-6da5-43a3-80c9-0b0298e9295c",
   "metadata": {},
   "source": [
    "passing list in to a function\n"
   ]
  },
  {
   "cell_type": "code",
   "execution_count": 25,
   "id": "2fa1690d-e761-46b5-90d6-23bfdc209f16",
   "metadata": {},
   "outputs": [
    {
     "data": {
      "text/plain": [
       "[1, 2, 3, 4, 5, 6, 7, 8.9]"
      ]
     },
     "execution_count": 25,
     "metadata": {},
     "output_type": "execute_result"
    }
   ],
   "source": [
    "test5([1,2,3,4,5],[6,7,8.9])"
   ]
  },
  {
   "cell_type": "code",
   "execution_count": 26,
   "id": "f040551e-32f3-4e97-b16e-de74f4eb54d4",
   "metadata": {},
   "outputs": [
    {
     "data": {
      "text/plain": [
       "'girisandeep'"
      ]
     },
     "execution_count": 26,
     "metadata": {},
     "output_type": "execute_result"
    }
   ],
   "source": [
    "test5(b=\"sandeep\",a=\"giri\")"
   ]
  },
  {
   "cell_type": "markdown",
   "id": "8eb67c10-be6b-412d-9aef-dbe93b9f3fc6",
   "metadata": {},
   "source": [
    "# Create a function which will take list as a input and give me final list with all numeric values:"
   ]
  },
  {
   "cell_type": "code",
   "execution_count": 28,
   "id": "684bc252-947c-4c2e-a93d-3a3e4a05d639",
   "metadata": {},
   "outputs": [
    {
     "name": "stdout",
     "output_type": "stream",
     "text": [
      "[1, 2, 3, 4, 'sandeep', 'Giri', 5, 'stoic', [6, 7, 8, 9]]\n"
     ]
    }
   ],
   "source": [
    "l=[1,2,3,4,\"sandeep\", \"Giri\", 5,\"stoic\",[6,7,8,9]]\n",
    "print (l)"
   ]
  },
  {
   "cell_type": "code",
   "execution_count": 56,
   "id": "e4c83e7d-a287-413e-9125-4167d1860ebb",
   "metadata": {},
   "outputs": [],
   "source": [
    "\n",
    "def test6(a):\n",
    "    n = []\n",
    "    for i in a:\n",
    "        if type(i)== int or type(i)== float:\n",
    "            \n",
    "            n.append(i)\n",
    "    return n\n",
    "            "
   ]
  },
  {
   "cell_type": "code",
   "execution_count": 57,
   "id": "93751887-6165-4d79-9224-3302712a70c9",
   "metadata": {},
   "outputs": [
    {
     "data": {
      "text/plain": [
       "[1, 2, 3, 4, 5]"
      ]
     },
     "execution_count": 57,
     "metadata": {},
     "output_type": "execute_result"
    }
   ],
   "source": [
    "test6(l)"
   ]
  },
  {
   "cell_type": "markdown",
   "id": "215a4b47-6623-455b-aa81-b4b3de852b37",
   "metadata": {},
   "source": [
    "#Now I want to return list into list also:"
   ]
  },
  {
   "cell_type": "code",
   "execution_count": 53,
   "id": "6510d652-2328-4556-b0ec-a0a992e79d9e",
   "metadata": {},
   "outputs": [
    {
     "data": {
      "text/plain": [
       "[1, 2, 3, 4, 'sandeep', 'Giri', 5, 'stoic', [6, 7, 8, 9]]"
      ]
     },
     "execution_count": 53,
     "metadata": {},
     "output_type": "execute_result"
    }
   ],
   "source": [
    "l"
   ]
  },
  {
   "cell_type": "code",
   "execution_count": 59,
   "id": "97ca6b89-60cb-4f28-9491-1dfb5b466641",
   "metadata": {},
   "outputs": [],
   "source": [
    "\n",
    "def test7(a):\n",
    "    n = []\n",
    "    for i in a:\n",
    "        if type(i)== int or type(i)== float or type(i)== list:\n",
    "            \n",
    "            n.append(i)\n",
    "    return n\n",
    "            \n",
    "        "
   ]
  },
  {
   "cell_type": "code",
   "execution_count": 60,
   "id": "ccac09ed-f078-4423-9369-b1840c59030a",
   "metadata": {},
   "outputs": [
    {
     "data": {
      "text/plain": [
       "[1, 2, 3, 4, 5, [6, 7, 8, 9]]"
      ]
     },
     "execution_count": 60,
     "metadata": {},
     "output_type": "execute_result"
    }
   ],
   "source": [
    "test7(l)"
   ]
  },
  {
   "cell_type": "code",
   "execution_count": 63,
   "id": "17213907-a641-4d0e-bd0e-fb9c9535c05c",
   "metadata": {},
   "outputs": [],
   "source": [
    "\n",
    "def test7(a):\n",
    "    n = []\n",
    "    for i in a:\n",
    "        if type(i)== list:\n",
    "            for j in i:\n",
    "                if type(j)== int or type(j)==float:\n",
    "                    n.append(j)\n",
    "        else:\n",
    "                    if type(i)==int or type(i)==float:\n",
    "                        n.append(i)\n",
    "    return n"
   ]
  },
  {
   "cell_type": "code",
   "execution_count": 64,
   "id": "2ceb82db-3a0b-4a79-9b85-dc7d03066fa9",
   "metadata": {},
   "outputs": [
    {
     "data": {
      "text/plain": [
       "[1, 2, 3, 4, 5, 6, 7, 8, 9]"
      ]
     },
     "execution_count": 64,
     "metadata": {},
     "output_type": "execute_result"
    }
   ],
   "source": [
    "test7(l)"
   ]
  },
  {
   "cell_type": "markdown",
   "id": "c473092f-f299-4940-8a08-509077f60830",
   "metadata": {},
   "source": [
    "# changes in else  ,When I slide else with 2nd if then:\n"
   ]
  },
  {
   "cell_type": "code",
   "execution_count": 65,
   "id": "7fd60453-bde8-4fe8-aeaf-9ce43d737d46",
   "metadata": {},
   "outputs": [],
   "source": [
    "\n",
    "def test7(a):\n",
    "    n = []\n",
    "    for i in a:\n",
    "        if type(i)== list:\n",
    "            for j in i:\n",
    "                if type(j)== int or type(j)==float:\n",
    "                    n.append(j)\n",
    "                else:\n",
    "                    if type(i)==int or type(i)==float:\n",
    "                        n.append(i)\n",
    "    return n"
   ]
  },
  {
   "cell_type": "code",
   "execution_count": 67,
   "id": "8fbd4451-0a94-4ff7-b994-f4bcc4b7442e",
   "metadata": {},
   "outputs": [
    {
     "data": {
      "text/plain": [
       "[6, 7, 8, 9]"
      ]
     },
     "execution_count": 67,
     "metadata": {},
     "output_type": "execute_result"
    }
   ],
   "source": [
    "test7(l)"
   ]
  },
  {
   "cell_type": "markdown",
   "id": "43e7e784-d8bf-46b1-8b69-fd766f057fa1",
   "metadata": {},
   "source": [
    "#When I use to pass any number,and losts of arguments then we use *agrs:"
   ]
  },
  {
   "cell_type": "code",
   "execution_count": 69,
   "id": "d1066e4e-2b2e-4e8a-aa97-578d797f99e4",
   "metadata": {},
   "outputs": [],
   "source": [
    "def test8(a,b,c,d,e):\n",
    "    pass\n"
   ]
  },
  {
   "cell_type": "code",
   "execution_count": 70,
   "id": "80f7896c-20db-4d6e-a5bf-53cb8fb21498",
   "metadata": {},
   "outputs": [
    {
     "ename": "TypeError",
     "evalue": "test8() takes 5 positional arguments but 7 were given",
     "output_type": "error",
     "traceback": [
      "\u001b[0;31m---------------------------------------------------------------------------\u001b[0m",
      "\u001b[0;31mTypeError\u001b[0m                                 Traceback (most recent call last)",
      "Cell \u001b[0;32mIn[70], line 1\u001b[0m\n\u001b[0;32m----> 1\u001b[0m \u001b[43mtest8\u001b[49m\u001b[43m(\u001b[49m\u001b[38;5;241;43m4\u001b[39;49m\u001b[43m,\u001b[49m\u001b[38;5;241;43m5\u001b[39;49m\u001b[43m,\u001b[49m\u001b[38;5;241;43m6\u001b[39;49m\u001b[43m,\u001b[49m\u001b[38;5;241;43m7\u001b[39;49m\u001b[43m,\u001b[49m\u001b[38;5;241;43m8\u001b[39;49m\u001b[43m,\u001b[49m\u001b[38;5;241;43m9\u001b[39;49m\u001b[43m,\u001b[49m\u001b[38;5;241;43m1\u001b[39;49m\u001b[43m)\u001b[49m\n",
      "\u001b[0;31mTypeError\u001b[0m: test8() takes 5 positional arguments but 7 were given"
     ]
    }
   ],
   "source": [
    "test8(4,5,6,7,8,9,1)"
   ]
  },
  {
   "cell_type": "code",
   "execution_count": 85,
   "id": "92d71569-49d4-4d7c-8f08-f17add7aa303",
   "metadata": {},
   "outputs": [],
   "source": [
    "def test9(*args): # *args I can pass any number of arguments:\n",
    "    # *args = it pass n number of data:\n",
    "    return(args)\n"
   ]
  },
  {
   "cell_type": "code",
   "execution_count": 86,
   "id": "5e47a595-a9df-46c6-83d9-7163f4939aca",
   "metadata": {},
   "outputs": [
    {
     "data": {
      "text/plain": [
       "(4,)"
      ]
     },
     "execution_count": 86,
     "metadata": {},
     "output_type": "execute_result"
    }
   ],
   "source": [
    "test9(4)"
   ]
  },
  {
   "cell_type": "code",
   "execution_count": 87,
   "id": "ac58d243-f31c-4901-ad1b-4fab2f0036a9",
   "metadata": {},
   "outputs": [
    {
     "data": {
      "text/plain": [
       "(2, 3, 4, 5, 10.5, True, [2, 3, 4, 7], 'sandeep', (2, 3))"
      ]
     },
     "execution_count": 87,
     "metadata": {},
     "output_type": "execute_result"
    }
   ],
   "source": [
    "test9(2,3,4,5, 10.5,True,[2,3,4,7], \"sandeep\",(2,3))"
   ]
  },
  {
   "cell_type": "markdown",
   "id": "8c5b7d87-be6a-4312-80b7-b00bfaff3ae2",
   "metadata": {},
   "source": [
    "Args is not keyword , you can use any name like your name ,anything :\n",
    "Example:\n"
   ]
  },
  {
   "cell_type": "code",
   "execution_count": 79,
   "id": "5c8a8eb9-b946-4722-819d-223c20f3eb9b",
   "metadata": {},
   "outputs": [],
   "source": [
    "def test10(*sand):\n",
    "    return sand"
   ]
  },
  {
   "cell_type": "code",
   "execution_count": 80,
   "id": "e3032100-35a8-497c-883d-53444d3f958d",
   "metadata": {},
   "outputs": [
    {
     "data": {
      "text/plain": [
       "(2, 3, 4, 8.9)"
      ]
     },
     "execution_count": 80,
     "metadata": {},
     "output_type": "execute_result"
    }
   ],
   "source": [
    "test10(2,3,4,8.9)"
   ]
  },
  {
   "cell_type": "code",
   "execution_count": 81,
   "id": "74bf5315-18b7-4b25-bd96-7f6e9a5ce1de",
   "metadata": {},
   "outputs": [],
   "source": [
    "\n",
    "def test11(*args,a):\n",
    "    return args,a\n"
   ]
  },
  {
   "cell_type": "code",
   "execution_count": 82,
   "id": "43319a69-7e98-4d88-87c7-b15a82665804",
   "metadata": {},
   "outputs": [
    {
     "ename": "TypeError",
     "evalue": "test11() missing 1 required keyword-only argument: 'a'",
     "output_type": "error",
     "traceback": [
      "\u001b[0;31m---------------------------------------------------------------------------\u001b[0m",
      "\u001b[0;31mTypeError\u001b[0m                                 Traceback (most recent call last)",
      "Cell \u001b[0;32mIn[82], line 1\u001b[0m\n\u001b[0;32m----> 1\u001b[0m \u001b[43mtest11\u001b[49m\u001b[43m(\u001b[49m\u001b[38;5;241;43m1\u001b[39;49m\u001b[43m,\u001b[49m\u001b[38;5;241;43m2\u001b[39;49m\u001b[43m)\u001b[49m\n",
      "\u001b[0;31mTypeError\u001b[0m: test11() missing 1 required keyword-only argument: 'a'"
     ]
    }
   ],
   "source": [
    "test11(1,2)"
   ]
  },
  {
   "cell_type": "markdown",
   "id": "8cf86e37-b4ab-43af-a2df-c6efec363bd4",
   "metadata": {},
   "source": [
    "The above example: when I pass args and another argument like a, its need  value\n"
   ]
  },
  {
   "cell_type": "code",
   "execution_count": 83,
   "id": "fe53c9a7-9fc5-453c-a66a-5ae6576c3055",
   "metadata": {},
   "outputs": [],
   "source": [
    "def test11(*args,a):\n",
    "    return args,a\n"
   ]
  },
  {
   "cell_type": "code",
   "execution_count": 84,
   "id": "6bf5b191-55c6-462d-adcc-87f6334ad66a",
   "metadata": {},
   "outputs": [
    {
     "data": {
      "text/plain": [
       "((1, 2, 3, 4), 'sandeep Giri')"
      ]
     },
     "execution_count": 84,
     "metadata": {},
     "output_type": "execute_result"
    }
   ],
   "source": [
    "test11(1,2,3,4, a=\"sandeep Giri\")"
   ]
  },
  {
   "cell_type": "code",
   "execution_count": 88,
   "id": "7b7a925b-a85f-4260-a5d0-2ccbc939baa9",
   "metadata": {},
   "outputs": [],
   "source": [
    "def test12(*args):\n",
    "    l=[]\n",
    "    for i in args:\n",
    "        if type(i)== list:\n",
    "            l.append(i)\n",
    "    return l\n",
    "\n",
    "            "
   ]
  },
  {
   "cell_type": "code",
   "execution_count": 90,
   "id": "d4f10bf3-f0bb-4754-be70-fffd92c6823b",
   "metadata": {},
   "outputs": [
    {
     "data": {
      "text/plain": [
       "[[5, 6, 1, 2], [6.3, 4.5]]"
      ]
     },
     "execution_count": 90,
     "metadata": {},
     "output_type": "execute_result"
    }
   ],
   "source": [
    "test12(1,2,3,4,[5,6,1,2],\"sandeep\",[6.3,4.5],3.1)\n",
    "# args pass as a tuple. args hold all the data in to tuple.\n"
   ]
  },
  {
   "cell_type": "markdown",
   "id": "7a45f550-daeb-46b3-8925-ec15c9edb154",
   "metadata": {},
   "source": [
    "How I pass n number of values with number and key pairs: Key and Value pairs inside in Funtion:"
   ]
  },
  {
   "cell_type": "code",
   "execution_count": 91,
   "id": "60d81713-3fd9-4b31-9a21-7a179fc9ee63",
   "metadata": {},
   "outputs": [],
   "source": [
    "#**kwargs = pass any n number of value of key and pairs:"
   ]
  },
  {
   "cell_type": "code",
   "execution_count": 92,
   "id": "ae2a8a94-c00b-4b0e-9c50-c300dd173cbf",
   "metadata": {},
   "outputs": [],
   "source": [
    "def test13(**kwargs):\n",
    "    return kwargs\n"
   ]
  },
  {
   "cell_type": "code",
   "execution_count": 93,
   "id": "afb10f45-b8f0-4a5b-80da-5562cf0961c7",
   "metadata": {},
   "outputs": [
    {
     "data": {
      "text/plain": [
       "{}"
      ]
     },
     "execution_count": 93,
     "metadata": {},
     "output_type": "execute_result"
    }
   ],
   "source": [
    "test13()"
   ]
  },
  {
   "cell_type": "code",
   "execution_count": 94,
   "id": "acc0916d-6d6d-4acc-97e6-c36d3c59b14f",
   "metadata": {},
   "outputs": [
    {
     "data": {
      "text/plain": [
       "dict"
      ]
     },
     "execution_count": 94,
     "metadata": {},
     "output_type": "execute_result"
    }
   ],
   "source": [
    "type(test13())"
   ]
  },
  {
   "cell_type": "code",
   "execution_count": 96,
   "id": "0a0b4365-687f-41b8-926b-ebab8aca7270",
   "metadata": {},
   "outputs": [
    {
     "data": {
      "text/plain": [
       "{'a': 5,\n",
       " 'b': 6,\n",
       " 'c': 7,\n",
       " 'd': [1, 2, 3, 4, 8],\n",
       " 'n': 'sandeep',\n",
       " 'p': ('sand', 2, 3, 4, 6)}"
      ]
     },
     "execution_count": 96,
     "metadata": {},
     "output_type": "execute_result"
    }
   ],
   "source": [
    "test13(a=5,b=6,c=7,d=[1,2,3,4,8],n=\"sandeep\",p=(\"sand\",2,3,4,6))"
   ]
  },
  {
   "cell_type": "code",
   "execution_count": 105,
   "id": "01cd5191-7275-42e8-9b6f-292422e9a84d",
   "metadata": {},
   "outputs": [],
   "source": [
    "def test14(**kwargs):\n",
    "    l=[]\n",
    "    for i in kwargs:\n",
    "        if type(i)==list:\n",
    "            l.append()\n",
    "    return l\n",
    "            "
   ]
  },
  {
   "cell_type": "code",
   "execution_count": 107,
   "id": "ba63ece7-dc62-43c4-98b8-f90e79c9f10e",
   "metadata": {},
   "outputs": [
    {
     "data": {
      "text/plain": [
       "[]"
      ]
     },
     "execution_count": 107,
     "metadata": {},
     "output_type": "execute_result"
    }
   ],
   "source": [
    "test14(a=5,b=6,c=7,d=[1,2,3,4,8],n=\"sandeep\",p=(\"sand\",2,3,4,6))"
   ]
  },
  {
   "cell_type": "code",
   "execution_count": 132,
   "id": "77d0b42c-c65c-4d8d-83eb-e9417c309efb",
   "metadata": {},
   "outputs": [],
   "source": [
    "def test15(**kwargs):\n",
    "    l=[]\n",
    "    for i in kwargs.keys():\n",
    "        if type(kwargs[i])==list:\n",
    "            \n",
    "            return i,kwargs[i]\n"
   ]
  },
  {
   "cell_type": "code",
   "execution_count": 133,
   "id": "b07468e5-8a03-4cb6-92c6-08f97ff17484",
   "metadata": {},
   "outputs": [
    {
     "data": {
      "text/plain": [
       "('d', [1, 2, 3, 4, 8])"
      ]
     },
     "execution_count": 133,
     "metadata": {},
     "output_type": "execute_result"
    }
   ],
   "source": [
    "test15(a=5,b=6,c=7,d=[1,2,3,4,8],n=\"sandeep\",p=(\"sand\",2,3,4,6))"
   ]
  },
  {
   "cell_type": "code",
   "execution_count": 134,
   "id": "f555b95d-3b7a-48bf-a66e-649118c4630a",
   "metadata": {},
   "outputs": [],
   "source": [
    "def test16(*args, **kwargs):\n",
    "    return args,kwargs\n"
   ]
  },
  {
   "cell_type": "code",
   "execution_count": 141,
   "id": "7f52b4f8-f10f-416d-b9fe-ed2e7dfd078e",
   "metadata": {},
   "outputs": [
    {
     "data": {
      "text/plain": [
       "((12, 3, 4, 5), {'a': (2, 3, 4), 'b': [3.4, 5, 6]})"
      ]
     },
     "execution_count": 141,
     "metadata": {},
     "output_type": "execute_result"
    }
   ],
   "source": [
    "test16(12,3,4,5,a=(2,3,4),b=[3.4,5,6])"
   ]
  },
  {
   "cell_type": "code",
   "execution_count": null,
   "id": "5d7a0c44-a599-45e0-8163-5d5c52773f98",
   "metadata": {},
   "outputs": [],
   "source": []
  },
  {
   "cell_type": "markdown",
   "id": "4ae90571-53c1-495c-996e-e7a0c1659734",
   "metadata": {},
   "source": [
    "Generator Function:"
   ]
  },
  {
   "cell_type": "code",
   "execution_count": null,
   "id": "d7eecbce-2118-4064-ba5f-719dc5f0f758",
   "metadata": {},
   "outputs": [],
   "source": []
  }
 ],
 "metadata": {
  "kernelspec": {
   "display_name": "Python 3 (ipykernel)",
   "language": "python",
   "name": "python3"
  },
  "language_info": {
   "codemirror_mode": {
    "name": "ipython",
    "version": 3
   },
   "file_extension": ".py",
   "mimetype": "text/x-python",
   "name": "python",
   "nbconvert_exporter": "python",
   "pygments_lexer": "ipython3",
   "version": "3.10.8"
  }
 },
 "nbformat": 4,
 "nbformat_minor": 5
}
