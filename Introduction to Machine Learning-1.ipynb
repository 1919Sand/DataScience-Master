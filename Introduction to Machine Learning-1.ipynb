{
 "cells": [
  {
   "cell_type": "markdown",
   "id": "761ef692-f375-4fa5-80cc-f4c3fc46d570",
   "metadata": {},
   "source": [
    "Q1.Explain the following with an example"
   ]
  },
  {
   "cell_type": "markdown",
   "id": "cfcd1b4e-8f4f-4a1d-ad53-a0bcc64f1cbb",
   "metadata": {},
   "source": [
    "Artificial Intelligence:  Artificial intelligence (AI) is a field of computer science that focuses on creating intelligent machines that can perform tasks that typically require human intelligence, such as recognizing speech, identifying objects, and making decisions. "
   ]
  },
  {
   "cell_type": "markdown",
   "id": "e115efb0-2b2b-41ee-86f5-c9f5da1703e4",
   "metadata": {},
   "source": [
    "#Machine Learning:  Machine learning is a subset of AI that involves training algorithms to automatically recognize patterns in data and make decisions based on that data.\n",
    "ex:- House price prediction, sentiment analysis, mail spam , Netflix recommendation"
   ]
  },
  {
   "cell_type": "markdown",
   "id": "6c5dcd8e-4faa-461c-bde0-670e7e83dd27",
   "metadata": {},
   "source": [
    "Deep Learning: Deep learning is a subset of machine learning that uses artificial neural networks to model and solve complex problems. \n",
    "Deep learning algorithms can be used for tasks such as image and speech recognition,\n",
    "natural language processing, and even game-playing. "
   ]
  },
  {
   "cell_type": "markdown",
   "id": "92df4516-78d2-4be7-994c-444fc2bd8a2b",
   "metadata": {},
   "source": [
    "Q2- What is supervised learning?List some example of supervised learning.\n",
    "\n",
    "Ans: Supervised learning: Supervised learning is a type of machine learning algorithm where the model is trained on labeled data, in supervised learning model we can predict value wrt to input value. y= f(x) where y is dependent of x.\n",
    "\n",
    "example:- House prediction model, mail spam, Stock price prediction etc"
   ]
  },
  {
   "cell_type": "markdown",
   "id": "12119315-fabd-4ecf-80f3-e7b01316c531",
   "metadata": {},
   "source": [
    "Q3- What is unsupervised learning? List some example of Unsupervised learning.\n",
    "\n",
    "Ans- Unsupervised learning: Unsupervised learning is a type of machine learning where the model is trained on unlabeled data,\n",
    "The goal of unsupervised learning is to find patterns or structure in the data, and group similar data points together based on their similarities or differences.\n",
    "Unsupervised learning is widely used in many industries, including finance, healthcare, and marketing, for tasks such as anomaly detection, customer segmentation, and image recognition."
   ]
  },
  {
   "cell_type": "markdown",
   "id": "5455727b-7b63-41fb-b906-987aeb504406",
   "metadata": {},
   "source": [
    "Q4. What is the difference bw ML, DL, AI, DS ?\n",
    "\n",
    "Ans: Following difference between ML, Dl, AI and DS:\n",
    "    \n",
    "    AI:- AI (Artificial Intelligence) is a broad field of computer science that focuses on creating intelligent machines that can perform tasks that typically require human intelligence.\n",
    "    \n",
    "    ML:-ML (Machine Learning) is a subset of AI that involves training algorithms to automatically recognize patterns in data and make decisions based on that data.\n",
    "    \n",
    "    DL:-DL (Deep Learning) is a subset of ML that uses neural networks to model and solve complex problems. \n",
    "    \n",
    "    DS:-  DS (Data Science) is an interdisciplinary field that involves extracting insights from data using techniques from statistics, computer science, and domain expertise."
   ]
  },
  {
   "cell_type": "markdown",
   "id": "6537cc57-3232-431c-b2af-96595a71e166",
   "metadata": {},
   "source": [
    "Q5. What are the main differences between Supervised, semisupervised and unsupervised learning?\n",
    "\n",
    "Ans: The Main difference between:\n",
    "    \n",
    "     Supervised learning: In supervised learning, the algorithm learns from labeled data, meaning that the input data is paired with the corresponding output data.\n",
    "    \n",
    "     Unsupervised learning: In unsupervised learning, the algorithm learns from unlabeled data, meaning that the input data is not paired with any corresponding output data.\n",
    "     \n",
    "     Semi-Supervised Learning:Semi-supervised learning is a combination of both supervised and unsupervised learning. It involves training an algorithm on both labeled and unlabeled data, where the amount of labeled data is usually small compared to the amount of unlabeled data. \n",
    "        \n",
    "    "
   ]
  },
  {
   "cell_type": "markdown",
   "id": "0d66682d-af78-4303-94c3-ecba003e28ca",
   "metadata": {},
   "source": [
    "Q6- What is train, test and validation split? Explain the importanct of each term.\n",
    "\n",
    "Ans:- Training Set:\n",
    "The training set is a subset of the data that is used to train the model. It is the portion of the data on which the model is trained to learn the underlying patterns and relationships between the input features and output variables. The goal of training is to minimize the error between the predicted output and the actual output.\n",
    "\n",
    "Test Set:\n",
    "The test set is a subset of the data that is used to evaluate the performance of the model. It is a completely independent dataset that the model has not seen during training. The test set is used to measure the model's ability to generalize to new data, and to estimate how well the model will perform on new, unseen data.\n",
    "\n",
    "Validation Set:\n",
    "The validation set is a subset of the data that is used to tune the model's hyperparameters, such as learning rate, regularization, and other settings that are not learned from the data. The validation set is used to compare the performance of different models and choose the best one before testing on the test set.\n",
    "\n",
    "The importance of train-test-validation split lies in the fact that it provides an unbiased estimate of how well the model is likely to perform on new, unseen data.\n",
    "By splitting the data into three sets, we can train the model on one set, tune the model on another set, \n",
    "and finally evaluate the model on a completely independent set. \n",
    "This helps to prevent overfitting, where the model performs well on the training data but poorly on new,\n",
    "unseen data."
   ]
  },
  {
   "cell_type": "markdown",
   "id": "65ca5d04-1536-4bce-9747-06200e3770c2",
   "metadata": {},
   "source": [
    "Q7- How can unsupervised learning be used in anomaly detection?\n",
    "\n",
    "Ans-Unsupervised learning is a machine learning technique that can be used to detect anomalies in data.\n",
    "An anomaly, also known as an outlier, is a data point that deviates significantly from the expected pattern or behavior of the majority of the data.\n",
    "\n",
    "One popular unsupervised learning technique for anomaly detection is clustering. \n",
    "Clustering algorithms group similar data points together based on their features,\n",
    "creating clusters or groups of similar data points. \n",
    "Any data point that does not fit well into any cluster can be considered an anomaly or an outlier.\n",
    "unsupervised learning technique for anomaly detection is dimensionality reduction. Dimensionality reduction algorithms reduce the number of features in the data while preserving the important information. \n",
    "Anomalies in the data can be identified as data points that cannot be well-represented by the reduced feature space.\n",
    "unsupervised learning can be used in anomaly detection by identifying data points that do not fit well into the expected pattern or behavior of the majority of the data, using techniques such as clustering, density estimation, and dimensionality reduction."
   ]
  },
  {
   "cell_type": "markdown",
   "id": "e165b3ba-d1bd-438b-9bc2-12b50395d193",
   "metadata": {},
   "source": [
    "Q8. List down some commonly used  supervised learning and unsupervised learning algorithms?\n",
    "\n",
    "Ans-Supervised Learning Algorithms:\n",
    "\n",
    "Linear Regression,\n",
    "Logistic Regression,\n",
    "Decision Tree,\n",
    "Random Forest,\n",
    "Support Vector Machines (SVM),\n",
    "K-Nearest Neighbors (KNN),\n",
    "Neural Networks (Multi-Layer Perceptron),\n",
    "\n",
    "Unsupervised Learning Algorithms:\n",
    "\n",
    "K-Means Clustering,\n",
    "Hierarchical Clustering,\n",
    "DBSCAN Clustering,\n",
    "Principal Component Analysis (PCA),\n",
    "Independent Component Analysis (ICA),\n",
    "t-Distributed Stochastic Neighbor Embedding (t-SNE),\n",
    "Autoencoder,"
   ]
  },
  {
   "cell_type": "code",
   "execution_count": null,
   "id": "b266da94-d10d-4d6d-8efd-8f70e8ebe8c7",
   "metadata": {},
   "outputs": [],
   "source": []
  }
 ],
 "metadata": {
  "kernelspec": {
   "display_name": "Python 3 (ipykernel)",
   "language": "python",
   "name": "python3"
  },
  "language_info": {
   "codemirror_mode": {
    "name": "ipython",
    "version": 3
   },
   "file_extension": ".py",
   "mimetype": "text/x-python",
   "name": "python",
   "nbconvert_exporter": "python",
   "pygments_lexer": "ipython3",
   "version": "3.10.8"
  }
 },
 "nbformat": 4,
 "nbformat_minor": 5
}
